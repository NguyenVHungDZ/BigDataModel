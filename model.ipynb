{
 "cells": [
  {
   "cell_type": "code",
   "execution_count": 1,
   "id": "d06ee1cc",
   "metadata": {},
   "outputs": [],
   "source": [
    "import pandas as pd\n",
    "import numpy as np\n",
    "import matplotlib.pyplot as plt\n",
    "import matplotlib\n",
    "import joblib\n",
    "matplotlib.use('TkAgg')\n",
    "import seaborn as sns\n",
    "from sklearn.model_selection import train_test_split\n",
    "from sklearn.preprocessing import LabelEncoder, StandardScaler\n",
    "from sklearn.ensemble import RandomForestRegressor, GradientBoostingRegressor\n",
    "from sklearn.linear_model import LinearRegression, Ridge\n",
    "from sklearn.metrics import mean_squared_error, r2_score"
   ]
  },
  {
   "cell_type": "code",
   "execution_count": 2,
   "id": "519362cc",
   "metadata": {},
   "outputs": [],
   "source": [
    "# Load Dataset\n",
    "df = pd.read_csv(\"smart_home_energy_consumption.csv\")"
   ]
  },
  {
   "cell_type": "code",
   "execution_count": 3,
   "id": "a09b68c2",
   "metadata": {},
   "outputs": [
    {
     "data": {
      "text/html": [
       "<div>\n",
       "<style scoped>\n",
       "    .dataframe tbody tr th:only-of-type {\n",
       "        vertical-align: middle;\n",
       "    }\n",
       "\n",
       "    .dataframe tbody tr th {\n",
       "        vertical-align: top;\n",
       "    }\n",
       "\n",
       "    .dataframe thead th {\n",
       "        text-align: right;\n",
       "    }\n",
       "</style>\n",
       "<table border=\"1\" class=\"dataframe\">\n",
       "  <thead>\n",
       "    <tr style=\"text-align: right;\">\n",
       "      <th></th>\n",
       "      <th>Timestamp</th>\n",
       "      <th>Device ID</th>\n",
       "      <th>Device Type</th>\n",
       "      <th>Power Consumption (W)</th>\n",
       "      <th>Room Location</th>\n",
       "      <th>Temperature (°C)</th>\n",
       "      <th>Humidity (%)</th>\n",
       "      <th>Usage Duration (minutes)</th>\n",
       "      <th>Energy Cost ($)</th>\n",
       "      <th>On/Off Status</th>\n",
       "    </tr>\n",
       "  </thead>\n",
       "  <tbody>\n",
       "    <tr>\n",
       "      <th>0</th>\n",
       "      <td>2024-03-25 16:38:00</td>\n",
       "      <td>D-1860</td>\n",
       "      <td>Washing Machine</td>\n",
       "      <td>341.72</td>\n",
       "      <td>Garage</td>\n",
       "      <td>23.95</td>\n",
       "      <td>52.29</td>\n",
       "      <td>75</td>\n",
       "      <td>51.26</td>\n",
       "      <td>On</td>\n",
       "    </tr>\n",
       "    <tr>\n",
       "      <th>1</th>\n",
       "      <td>2024-05-01 16:03:00</td>\n",
       "      <td>D-9322</td>\n",
       "      <td>Laptop Charger</td>\n",
       "      <td>31.24</td>\n",
       "      <td>Bedroom</td>\n",
       "      <td>25.83</td>\n",
       "      <td>76.93</td>\n",
       "      <td>130</td>\n",
       "      <td>8.12</td>\n",
       "      <td>On</td>\n",
       "    </tr>\n",
       "    <tr>\n",
       "      <th>2</th>\n",
       "      <td>2024-06-12 17:56:00</td>\n",
       "      <td>D-5555</td>\n",
       "      <td>Smart Bulb</td>\n",
       "      <td>11.12</td>\n",
       "      <td>Garage</td>\n",
       "      <td>21.48</td>\n",
       "      <td>44.56</td>\n",
       "      <td>59</td>\n",
       "      <td>1.31</td>\n",
       "      <td>On</td>\n",
       "    </tr>\n",
       "    <tr>\n",
       "      <th>3</th>\n",
       "      <td>2024-04-13 19:43:00</td>\n",
       "      <td>D-2899</td>\n",
       "      <td>Heater</td>\n",
       "      <td>2028.47</td>\n",
       "      <td>Living Room</td>\n",
       "      <td>15.70</td>\n",
       "      <td>60.38</td>\n",
       "      <td>21</td>\n",
       "      <td>85.20</td>\n",
       "      <td>On</td>\n",
       "    </tr>\n",
       "    <tr>\n",
       "      <th>4</th>\n",
       "      <td>2024-08-30 16:17:00</td>\n",
       "      <td>D-9792</td>\n",
       "      <td>Washing Machine</td>\n",
       "      <td>732.82</td>\n",
       "      <td>Bedroom</td>\n",
       "      <td>20.78</td>\n",
       "      <td>30.80</td>\n",
       "      <td>130</td>\n",
       "      <td>190.53</td>\n",
       "      <td>On</td>\n",
       "    </tr>\n",
       "  </tbody>\n",
       "</table>\n",
       "</div>"
      ],
      "text/plain": [
       "             Timestamp Device ID      Device Type  Power Consumption (W)  \\\n",
       "0  2024-03-25 16:38:00    D-1860  Washing Machine                 341.72   \n",
       "1  2024-05-01 16:03:00    D-9322   Laptop Charger                  31.24   \n",
       "2  2024-06-12 17:56:00    D-5555       Smart Bulb                  11.12   \n",
       "3  2024-04-13 19:43:00    D-2899           Heater                2028.47   \n",
       "4  2024-08-30 16:17:00    D-9792  Washing Machine                 732.82   \n",
       "\n",
       "  Room Location  Temperature (°C)  Humidity (%)  Usage Duration (minutes)  \\\n",
       "0        Garage             23.95         52.29                        75   \n",
       "1       Bedroom             25.83         76.93                       130   \n",
       "2        Garage             21.48         44.56                        59   \n",
       "3   Living Room             15.70         60.38                        21   \n",
       "4       Bedroom             20.78         30.80                       130   \n",
       "\n",
       "   Energy Cost ($) On/Off Status  \n",
       "0            51.26            On  \n",
       "1             8.12            On  \n",
       "2             1.31            On  \n",
       "3            85.20            On  \n",
       "4           190.53            On  "
      ]
     },
     "metadata": {},
     "output_type": "display_data"
    },
    {
     "name": "stdout",
     "output_type": "stream",
     "text": [
      "<class 'pandas.core.frame.DataFrame'>\n",
      "RangeIndex: 50000 entries, 0 to 49999\n",
      "Data columns (total 10 columns):\n",
      " #   Column                    Non-Null Count  Dtype  \n",
      "---  ------                    --------------  -----  \n",
      " 0   Timestamp                 50000 non-null  object \n",
      " 1   Device ID                 50000 non-null  object \n",
      " 2   Device Type               50000 non-null  object \n",
      " 3   Power Consumption (W)     50000 non-null  float64\n",
      " 4   Room Location             50000 non-null  object \n",
      " 5   Temperature (°C)          50000 non-null  float64\n",
      " 6   Humidity (%)              50000 non-null  float64\n",
      " 7   Usage Duration (minutes)  50000 non-null  int64  \n",
      " 8   Energy Cost ($)           50000 non-null  float64\n",
      " 9   On/Off Status             50000 non-null  object \n",
      "dtypes: float64(4), int64(1), object(5)\n",
      "memory usage: 3.8+ MB\n"
     ]
    },
    {
     "data": {
      "text/plain": [
       "None"
      ]
     },
     "metadata": {},
     "output_type": "display_data"
    },
    {
     "data": {
      "text/html": [
       "<div>\n",
       "<style scoped>\n",
       "    .dataframe tbody tr th:only-of-type {\n",
       "        vertical-align: middle;\n",
       "    }\n",
       "\n",
       "    .dataframe tbody tr th {\n",
       "        vertical-align: top;\n",
       "    }\n",
       "\n",
       "    .dataframe thead th {\n",
       "        text-align: right;\n",
       "    }\n",
       "</style>\n",
       "<table border=\"1\" class=\"dataframe\">\n",
       "  <thead>\n",
       "    <tr style=\"text-align: right;\">\n",
       "      <th></th>\n",
       "      <th>Power Consumption (W)</th>\n",
       "      <th>Temperature (°C)</th>\n",
       "      <th>Humidity (%)</th>\n",
       "      <th>Usage Duration (minutes)</th>\n",
       "      <th>Energy Cost ($)</th>\n",
       "    </tr>\n",
       "  </thead>\n",
       "  <tbody>\n",
       "    <tr>\n",
       "      <th>count</th>\n",
       "      <td>50000.000000</td>\n",
       "      <td>50000.000000</td>\n",
       "      <td>50000.000000</td>\n",
       "      <td>50000.000000</td>\n",
       "      <td>50000.000000</td>\n",
       "    </tr>\n",
       "    <tr>\n",
       "      <th>mean</th>\n",
       "      <td>570.842000</td>\n",
       "      <td>22.499879</td>\n",
       "      <td>54.993893</td>\n",
       "      <td>90.418140</td>\n",
       "      <td>103.312700</td>\n",
       "    </tr>\n",
       "    <tr>\n",
       "      <th>std</th>\n",
       "      <td>743.596529</td>\n",
       "      <td>4.321193</td>\n",
       "      <td>14.469001</td>\n",
       "      <td>51.659167</td>\n",
       "      <td>165.772992</td>\n",
       "    </tr>\n",
       "    <tr>\n",
       "      <th>min</th>\n",
       "      <td>2.500000</td>\n",
       "      <td>15.000000</td>\n",
       "      <td>30.000000</td>\n",
       "      <td>1.000000</td>\n",
       "      <td>0.010000</td>\n",
       "    </tr>\n",
       "    <tr>\n",
       "      <th>25%</th>\n",
       "      <td>50.960000</td>\n",
       "      <td>18.760000</td>\n",
       "      <td>42.420000</td>\n",
       "      <td>46.000000</td>\n",
       "      <td>4.040000</td>\n",
       "    </tr>\n",
       "    <tr>\n",
       "      <th>50%</th>\n",
       "      <td>134.725000</td>\n",
       "      <td>22.500000</td>\n",
       "      <td>54.980000</td>\n",
       "      <td>90.000000</td>\n",
       "      <td>22.605000</td>\n",
       "    </tr>\n",
       "    <tr>\n",
       "      <th>75%</th>\n",
       "      <td>1013.857500</td>\n",
       "      <td>26.220000</td>\n",
       "      <td>67.450000</td>\n",
       "      <td>135.000000</td>\n",
       "      <td>130.152500</td>\n",
       "    </tr>\n",
       "    <tr>\n",
       "      <th>max</th>\n",
       "      <td>2999.710000</td>\n",
       "      <td>30.000000</td>\n",
       "      <td>80.000000</td>\n",
       "      <td>179.000000</td>\n",
       "      <td>1041.140000</td>\n",
       "    </tr>\n",
       "  </tbody>\n",
       "</table>\n",
       "</div>"
      ],
      "text/plain": [
       "       Power Consumption (W)  Temperature (°C)  Humidity (%)  \\\n",
       "count           50000.000000      50000.000000  50000.000000   \n",
       "mean              570.842000         22.499879     54.993893   \n",
       "std               743.596529          4.321193     14.469001   \n",
       "min                 2.500000         15.000000     30.000000   \n",
       "25%                50.960000         18.760000     42.420000   \n",
       "50%               134.725000         22.500000     54.980000   \n",
       "75%              1013.857500         26.220000     67.450000   \n",
       "max              2999.710000         30.000000     80.000000   \n",
       "\n",
       "       Usage Duration (minutes)  Energy Cost ($)  \n",
       "count              50000.000000     50000.000000  \n",
       "mean                  90.418140       103.312700  \n",
       "std                   51.659167       165.772992  \n",
       "min                    1.000000         0.010000  \n",
       "25%                   46.000000         4.040000  \n",
       "50%                   90.000000        22.605000  \n",
       "75%                  135.000000       130.152500  \n",
       "max                  179.000000      1041.140000  "
      ]
     },
     "metadata": {},
     "output_type": "display_data"
    }
   ],
   "source": [
    "# Display basic info\n",
    "display(df.head())\n",
    "display(df.info())\n",
    "display(df.describe())"
   ]
  },
  {
   "cell_type": "code",
   "execution_count": 4,
   "id": "71815fc4",
   "metadata": {},
   "outputs": [
    {
     "name": "stdout",
     "output_type": "stream",
     "text": [
      "Timestamp                   0\n",
      "Device ID                   0\n",
      "Device Type                 0\n",
      "Power Consumption (W)       0\n",
      "Room Location               0\n",
      "Temperature (°C)            0\n",
      "Humidity (%)                0\n",
      "Usage Duration (minutes)    0\n",
      "Energy Cost ($)             0\n",
      "On/Off Status               0\n",
      "dtype: int64\n"
     ]
    }
   ],
   "source": [
    "# Check for missing values\n",
    "print(df.isnull().sum())"
   ]
  },
  {
   "cell_type": "code",
   "execution_count": 5,
   "id": "1d934877",
   "metadata": {},
   "outputs": [],
   "source": [
    "# Exploratory Data Analysis (EDA)\n",
    "plt.figure(figsize=(12, 6))\n",
    "sns.histplot(df['Power Consumption (W)'], bins=30, kde=True)\n",
    "plt.title('Distribution of Power Consumption')\n",
    "plt.show()"
   ]
  },
  {
   "cell_type": "code",
   "execution_count": 6,
   "id": "68aa70c2",
   "metadata": {},
   "outputs": [],
   "source": [
    "# Filter numeric columns  \n",
    "numeric_df = df.select_dtypes(include=['number'])  \n",
    "\n",
    "# Handle NaN if needed  \n",
    "numeric_df = numeric_df.fillna(0)  # or numeric_df.dropna()  \n",
    "\n",
    "# Create the heatmap  \n",
    "plt.figure(figsize=(12, 6))  \n",
    "sns.heatmap(numeric_df.corr(), annot=True, cmap='coolwarm')  \n",
    "plt.title('Feature Correlation Heatmap')  \n",
    "plt.show()"
   ]
  },
  {
   "cell_type": "code",
   "execution_count": 7,
   "id": "c4cfe896",
   "metadata": {},
   "outputs": [],
   "source": [
    "# Additional EDA\n",
    "plt.figure(figsize=(12, 6))\n",
    "sns.boxplot(x='Device Type', y='Power Consumption (W)', data=df)\n",
    "plt.title('Power Consumption by Device Type')\n",
    "plt.xticks(rotation=45)\n",
    "plt.show()"
   ]
  },
  {
   "cell_type": "code",
   "execution_count": 8,
   "id": "b1dc0e00",
   "metadata": {},
   "outputs": [],
   "source": [
    "plt.figure(figsize=(12, 6))\n",
    "sns.scatterplot(x='Temperature (°C)', y='Power Consumption (W)', hue='Device Type', data=df)\n",
    "plt.title('Power Consumption vs Temperature')\n",
    "plt.show()"
   ]
  },
  {
   "cell_type": "code",
   "execution_count": 9,
   "id": "6734e77b",
   "metadata": {},
   "outputs": [],
   "source": [
    "# Convert categorical features\n",
    "# Encode and save encoders\n",
    "device_encoder = LabelEncoder()\n",
    "df['Device Type'] = device_encoder.fit_transform(df['Device Type'])\n",
    "\n",
    "room_encoder = LabelEncoder()\n",
    "df['Room Location'] = room_encoder.fit_transform(df['Room Location'])\n",
    "\n",
    "# Store encoders for later\n",
    "encoders = {\n",
    "    'device': device_encoder,\n",
    "    'room': room_encoder\n",
    "}\n",
    "\n",
    "df['On/Off Status'] = df['On/Off Status'].map({'On': 1, 'Off': 0})"
   ]
  },
  {
   "cell_type": "code",
   "execution_count": 10,
   "id": "815ed133",
   "metadata": {},
   "outputs": [],
   "source": [
    "# Selecting Features and Target\n",
    "X = df[['Device Type', 'Power Consumption (W)', 'Room Location', 'Temperature (°C)', 'Humidity (%)', 'Usage Duration (minutes)', 'On/Off Status']]\n",
    "y = df['Energy Cost ($)']"
   ]
  },
  {
   "cell_type": "code",
   "execution_count": null,
   "id": "1785ccda",
   "metadata": {},
   "outputs": [],
   "source": [
    "# Split for training and testing\n",
    "X_train, X_test, y_train, y_test = train_test_split(X, y, test_size=0.2, random_state=42)"
   ]
  },
  {
   "cell_type": "code",
   "execution_count": 12,
   "id": "7a10a308",
   "metadata": {},
   "outputs": [],
   "source": [
    "# Feature Scaling\n",
    "scaler = StandardScaler()\n",
    "X_train = scaler.fit_transform(X_train)\n",
    "X_test = scaler.transform(X_test)"
   ]
  },
  {
   "cell_type": "code",
   "execution_count": 13,
   "id": "fe055d75",
   "metadata": {},
   "outputs": [
    {
     "name": "stdout",
     "output_type": "stream",
     "text": [
      "Random Forest R2 Score: 0.9998325498624763\n",
      "Random Forest RMSE: 2.1169925665710756\n"
     ]
    }
   ],
   "source": [
    "# Model Training - Random Forest\n",
    "rf_model = RandomForestRegressor(n_estimators=200, max_depth=10, random_state=42)\n",
    "rf_model.fit(X_train, y_train)\n",
    "y_pred_rf = rf_model.predict(X_test)\n",
    "print(\"Random Forest R2 Score:\", r2_score(y_test, y_pred_rf))\n",
    "print(\"Random Forest RMSE:\", np.sqrt(mean_squared_error(y_test, y_pred_rf)))"
   ]
  },
  {
   "cell_type": "code",
   "execution_count": 14,
   "id": "7f150a1c",
   "metadata": {},
   "outputs": [
    {
     "name": "stdout",
     "output_type": "stream",
     "text": [
      "Gradient Boosting R2 Score: 0.9998191046309137\n",
      "Gradient Boosting RMSE: 2.200342581199195\n"
     ]
    }
   ],
   "source": [
    "# Model Training - Gradient Boosting\n",
    "gb_model = GradientBoostingRegressor(n_estimators=200, learning_rate=0.1, max_depth=5, random_state=42)\n",
    "gb_model.fit(X_train, y_train)\n",
    "y_pred_gb = gb_model.predict(X_test)\n",
    "print(\"Gradient Boosting R2 Score:\", r2_score(y_test, y_pred_gb))\n",
    "print(\"Gradient Boosting RMSE:\", np.sqrt(mean_squared_error(y_test, y_pred_gb)))"
   ]
  },
  {
   "cell_type": "code",
   "execution_count": 15,
   "id": "f53b56ff",
   "metadata": {},
   "outputs": [
    {
     "name": "stdout",
     "output_type": "stream",
     "text": [
      "Ridge Regression R2 Score: 0.7725308573572106\n",
      "Ridge Regression RMSE: 78.0257270516386\n"
     ]
    }
   ],
   "source": [
    "# Model Training - Ridge Regression\n",
    "ridge_model = Ridge(alpha=1.0)\n",
    "ridge_model.fit(X_train, y_train)\n",
    "y_pred_ridge = ridge_model.predict(X_test)\n",
    "print(\"Ridge Regression R2 Score:\", r2_score(y_test, y_pred_ridge))\n",
    "print(\"Ridge Regression RMSE:\", np.sqrt(mean_squared_error(y_test, y_pred_ridge)))"
   ]
  },
  {
   "cell_type": "code",
   "execution_count": 16,
   "id": "d1246221",
   "metadata": {},
   "outputs": [],
   "source": [
    "# Feature Importance (Random Forest)\n",
    "plt.figure(figsize=(12, 6))\n",
    "sns.barplot(x=X.columns, y=rf_model.feature_importances_)\n",
    "plt.title('Feature Importance - Random Forest')\n",
    "plt.xticks(rotation=45)\n",
    "plt.show()"
   ]
  },
  {
   "cell_type": "code",
   "execution_count": 17,
   "id": "63fd73c9",
   "metadata": {},
   "outputs": [
    {
     "data": {
      "text/plain": [
       "['testModel.pkl']"
      ]
     },
     "execution_count": 17,
     "metadata": {},
     "output_type": "execute_result"
    }
   ],
   "source": [
    "import joblib\n",
    "\n",
    "# Save the best model (e.g., Random Forest)\n",
    "joblib.dump(rf_model, \"testModel.pkl\")\n",
    "\n",
    "# Save the encoders\n",
    "joblib.dump(device_encoder, \"device_encoder.pkl\")\n",
    "joblib.dump(room_encoder, \"room_encoder.pkl\")\n",
    "\n",
    "# Save the scaler\n",
    "joblib.dump(scaler, \"scaler.pkl\")\n",
    "\n",
    "joblib.dump(gb_model, 'testModel.pkl')\n"
   ]
  }
 ],
 "metadata": {
  "kernelspec": {
   "display_name": ".venv",
   "language": "python",
   "name": "python3"
  },
  "language_info": {
   "codemirror_mode": {
    "name": "ipython",
    "version": 3
   },
   "file_extension": ".py",
   "mimetype": "text/x-python",
   "name": "python",
   "nbconvert_exporter": "python",
   "pygments_lexer": "ipython3",
   "version": "3.12.6"
  }
 },
 "nbformat": 4,
 "nbformat_minor": 5
}
